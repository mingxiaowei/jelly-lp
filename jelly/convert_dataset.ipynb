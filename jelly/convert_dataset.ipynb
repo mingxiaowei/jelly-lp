{
 "cells": [
  {
   "cell_type": "code",
   "execution_count": 2,
   "metadata": {},
   "outputs": [
    {
     "name": "stdout",
     "output_type": "stream",
     "text": [
      "SLEAP: 1.4.1\n",
      "TensorFlow: 2.7.0\n",
      "Numpy: 1.21.5\n",
      "Python: 3.7.12\n",
      "OS: Linux-6.8.0-51-generic-x86_64-with-debian-trixie-sid\n",
      "GPUs: 2/2 available\n",
      "  Device: /physical_device:GPU:0\n",
      "         Available: True\n",
      "       Initialized: False\n",
      "     Memory growth: True\n",
      "  Device: /physical_device:GPU:1\n",
      "         Available: True\n",
      "       Initialized: False\n",
      "     Memory growth: True\n"
     ]
    }
   ],
   "source": [
    "import sleap\n",
    "\n",
    "# This prevents TensorFlow from allocating all the GPU memory, which leads to issues on\n",
    "# some GPUs/platforms:\n",
    "sleap.disable_preallocation()\n",
    "\n",
    "# This would hide GPUs from the TensorFlow altogether:\n",
    "# sleap.use_cpu_onl\n",
    "# Print some info:\n",
    "sleap.versions()\n",
    "sleap.system_summary()"
   ]
  },
  {
   "cell_type": "markdown",
   "metadata": {},
   "source": [
    "# convert slp to pkg.slp"
   ]
  },
  {
   "cell_type": "code",
   "execution_count": 3,
   "metadata": {},
   "outputs": [],
   "source": [
    "labels_path = \"/home/mingxiao/Desktop/jellyfish/label/multifish/multifish_animal_1_v4.slp\"\n",
    "labels = sleap.load_file(labels_path)"
   ]
  },
  {
   "cell_type": "code",
   "execution_count": 4,
   "metadata": {},
   "outputs": [],
   "source": [
    "labels.save(\"/home/mingxiao/Desktop/jellyfish/label/multifish/multifish_animal_1_v4.pkg.slp\", with_images=True, embed_all_labeled=True)"
   ]
  },
  {
   "cell_type": "markdown",
   "metadata": {},
   "source": [
    "# convert pkg.slp to lp"
   ]
  },
  {
   "cell_type": "code",
   "execution_count": 6,
   "metadata": {},
   "outputs": [
    {
     "name": "stderr",
     "output_type": "stream",
     "text": [
      "UsageError: Line magic function `%%python` not found.\n"
     ]
    }
   ],
   "source": [
    "# $ python slp2lp.py --slp_file /path/to/<project>.pkg.slp --lp_dir /path/to/lp/dir\n",
    "%%python scripts/converters/sleap2lp.py --slp_file /home/mingxiao/Desktop/jellyfish/label/multifish/multifish_animal_1_v4.pkg.slp --lp_dir /home/mingxiao/Desktop/jelly-lp/jelly/data/video_1"
   ]
  },
  {
   "cell_type": "code",
   "execution_count": null,
   "metadata": {},
   "outputs": [],
   "source": [
    "/home/mingxiao/Desktop/jelly-lp/scripts/converters/sleap2lp.py"
   ]
  },
  {
   "cell_type": "markdown",
   "metadata": {},
   "source": [
    "# export labeled data as PNGs"
   ]
  },
  {
   "cell_type": "markdown",
   "metadata": {},
   "source": [
    "# export labels as CSV"
   ]
  },
  {
   "cell_type": "markdown",
   "metadata": {},
   "source": []
  }
 ],
 "metadata": {
  "kernelspec": {
   "display_name": "Python 3",
   "language": "python",
   "name": "python3"
  },
  "language_info": {
   "codemirror_mode": {
    "name": "ipython",
    "version": 3
   },
   "file_extension": ".py",
   "mimetype": "text/x-python",
   "name": "python",
   "nbconvert_exporter": "python",
   "pygments_lexer": "ipython3",
   "version": "3.7.12"
  }
 },
 "nbformat": 4,
 "nbformat_minor": 2
}
